{
 "cells": [
  {
   "cell_type": "markdown",
   "metadata": {},
   "source": [
    "Spatial ICA on source‐reconstructed EEG"
   ]
  },
  {
   "cell_type": "code",
   "execution_count": 4,
   "metadata": {},
   "outputs": [],
   "source": [
    "import numpy as np\n",
    "import sklearn\n",
    "import mne"
   ]
  },
  {
   "cell_type": "code",
   "execution_count": null,
   "metadata": {},
   "outputs": [],
   "source": [
    "# Source-reconstruct your cleaned EEG\n",
    "# assuming you’ve already built an inverse operator in MNE…\n",
    "stc = inverse_operator.apply_inverse_raw(raw, lambda2=1/9, method='dSPM')"
   ]
  },
  {
   "cell_type": "code",
   "execution_count": null,
   "metadata": {},
   "outputs": [],
   "source": [
    "# Restrict to your fMRI‐active vertices (vertices of interest)\n",
    "label = mne.read_label('fmri_active.label')         # a label made from your fMRI mask  \n",
    "verts = [label.vertices]                            # list-of-lists per hemisphere  \n",
    "data_roi = np.vstack([stc.data[v, :] for v in verts])  # shape = (n_voxels_in_mask, n_times)"
   ]
  },
  {
   "cell_type": "code",
   "execution_count": null,
   "metadata": {},
   "outputs": [],
   "source": [
    "# Reduce dimensionality with PCA\n",
    "from sklearn.decomposition import PCA\n",
    "X = data_roi.T                # shape = (n_times, n_voxels)\n",
    "pca = PCA(n_components=20)    \n",
    "Xr = pca.fit_transform(X)     # now (n_times, 20)"
   ]
  },
  {
   "cell_type": "code",
   "execution_count": null,
   "metadata": {},
   "outputs": [],
   "source": [
    "# Run ICA on the PCA‐reduced data\n",
    "from sklearn.decomposition import FastICA\n",
    "ica = FastICA(n_components=10)\n",
    "S = ica.fit_transform(Xr)     # (n_times, 10)    ← time-courses of ICs\n",
    "A = ica.mixing_               # (20, 10)         ← mixing from PCA space to ICs"
   ]
  },
  {
   "cell_type": "code",
   "execution_count": null,
   "metadata": {},
   "outputs": [],
   "source": [
    "# Back-project each IC into cortex space\n",
    "# ica.components_ is (10, 20); invert PCA to get (10, n_voxels)\n",
    "spatial_maps = pca.inverse_transform(ica.components_)  "
   ]
  },
  {
   "cell_type": "code",
   "execution_count": null,
   "metadata": {},
   "outputs": [],
   "source": [
    "# Select the IC(s) whose spatial map best correlates with your fMRI map\n",
    "# assume fmri_map is a vector of t-values at each voxel\n",
    "corrs = [ np.corrcoef(spat, fmri_map)[0,1] \n",
    "          for spat in spatial_maps ]\n",
    "best = np.argmax(np.abs(corrs))   # pick IC with highest |corr|\n",
    "roi_timecourse = S[:, best]"
   ]
  },
  {
   "cell_type": "code",
   "execution_count": null,
   "metadata": {},
   "outputs": [],
   "source": [
    "# Threshold or cluster that IC’s spatial map if you still want a binary segmentation."
   ]
  },
  {
   "cell_type": "markdown",
   "metadata": {},
   "source": [
    "Outputs:\n",
    "EEG Data\n",
    "Valence\n",
    "Arousal\n",
    "Audio"
   ]
  }
 ],
 "metadata": {
  "kernelspec": {
   "display_name": "Python 3",
   "language": "python",
   "name": "python3"
  },
  "language_info": {
   "codemirror_mode": {
    "name": "ipython",
    "version": 3
   },
   "file_extension": ".py",
   "mimetype": "text/x-python",
   "name": "python",
   "nbconvert_exporter": "python",
   "pygments_lexer": "ipython3",
   "version": "3.11.7"
  },
  "orig_nbformat": 4
 },
 "nbformat": 4,
 "nbformat_minor": 2
}
