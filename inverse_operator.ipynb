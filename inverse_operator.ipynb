{
 "cells": [
  {
   "cell_type": "code",
   "execution_count": 1,
   "metadata": {},
   "outputs": [
    {
     "ename": "FileNotFoundError",
     "evalue": "subjects_dir does not exist: \"/path/to/freesurfer/subjects\"",
     "output_type": "error",
     "traceback": [
      "\u001b[0;31m---------------------------------------------------------------------------\u001b[0m",
      "\u001b[0;31mFileNotFoundError\u001b[0m                         Traceback (most recent call last)",
      "Cell \u001b[0;32mIn[1], line 12\u001b[0m\n\u001b[1;32m      9\u001b[0m subjects_dir \u001b[39m=\u001b[39m \u001b[39m'\u001b[39m\u001b[39m/path/to/freesurfer/subjects\u001b[39m\u001b[39m'\u001b[39m\n\u001b[1;32m     11\u001b[0m \u001b[39m# create a source space on the cortical surface (e.g. ~10 000 vertices / hemisphere)\u001b[39;00m\n\u001b[0;32m---> 12\u001b[0m src \u001b[39m=\u001b[39m mne\u001b[39m.\u001b[39;49msetup_source_space(\n\u001b[1;32m     13\u001b[0m     subject\u001b[39m=\u001b[39;49m\u001b[39m'\u001b[39;49m\u001b[39msubj01\u001b[39;49m\u001b[39m'\u001b[39;49m,\n\u001b[1;32m     14\u001b[0m     spacing\u001b[39m=\u001b[39;49m\u001b[39m'\u001b[39;49m\u001b[39moct6\u001b[39;49m\u001b[39m'\u001b[39;49m,                \u001b[39m# roughly 4098 sources per hemi; try 'oct4' for fewer\u001b[39;49;00m\n\u001b[1;32m     15\u001b[0m     subjects_dir\u001b[39m=\u001b[39;49msubjects_dir,\n\u001b[1;32m     16\u001b[0m     add_dist\u001b[39m=\u001b[39;49m\u001b[39mFalse\u001b[39;49;00m                 \u001b[39m# save memory if you won’t do source connectivity\u001b[39;49;00m\n\u001b[1;32m     17\u001b[0m )\n",
      "File \u001b[0;32m<decorator-gen-132>:12\u001b[0m, in \u001b[0;36msetup_source_space\u001b[0;34m(subject, spacing, surface, subjects_dir, add_dist, n_jobs, verbose)\u001b[0m\n",
      "File \u001b[0;32m/opt/homebrew/lib/python3.11/site-packages/mne/source_space/_source_space.py:1525\u001b[0m, in \u001b[0;36msetup_source_space\u001b[0;34m(subject, spacing, surface, subjects_dir, add_dist, n_jobs, verbose)\u001b[0m\n\u001b[1;32m   1484\u001b[0m \u001b[39m\u001b[39m\u001b[39m\"\"\"Set up bilateral hemisphere surface-based source space with subsampling.\u001b[39;00m\n\u001b[1;32m   1485\u001b[0m \n\u001b[1;32m   1486\u001b[0m \u001b[39mParameters\u001b[39;00m\n\u001b[0;32m   (...)\u001b[0m\n\u001b[1;32m   1518\u001b[0m \u001b[39msetup_volume_source_space\u001b[39;00m\n\u001b[1;32m   1519\u001b[0m \u001b[39m\"\"\"\u001b[39;00m\n\u001b[1;32m   1520\u001b[0m cmd \u001b[39m=\u001b[39m (\n\u001b[1;32m   1521\u001b[0m     \u001b[39mf\u001b[39m\u001b[39m\"\u001b[39m\u001b[39msetup_source_space(\u001b[39m\u001b[39m{\u001b[39;00msubject\u001b[39m}\u001b[39;00m\u001b[39m, spacing=\u001b[39m\u001b[39m{\u001b[39;00mspacing\u001b[39m}\u001b[39;00m\u001b[39m, surface=\u001b[39m\u001b[39m{\u001b[39;00msurface\u001b[39m}\u001b[39;00m\u001b[39m, \u001b[39m\u001b[39m\"\u001b[39m\n\u001b[1;32m   1522\u001b[0m     \u001b[39mf\u001b[39m\u001b[39m\"\u001b[39m\u001b[39msubjects_dir=\u001b[39m\u001b[39m{\u001b[39;00msubjects_dir\u001b[39m}\u001b[39;00m\u001b[39m, add_dist=\u001b[39m\u001b[39m{\u001b[39;00madd_dist\u001b[39m}\u001b[39;00m\u001b[39m, verbose=\u001b[39m\u001b[39m{\u001b[39;00mverbose\u001b[39m}\u001b[39;00m\u001b[39m)\u001b[39m\u001b[39m\"\u001b[39m\n\u001b[1;32m   1523\u001b[0m )\n\u001b[0;32m-> 1525\u001b[0m subjects_dir \u001b[39m=\u001b[39m get_subjects_dir(subjects_dir, raise_error\u001b[39m=\u001b[39;49m\u001b[39mTrue\u001b[39;49;00m)\n\u001b[1;32m   1526\u001b[0m surfs \u001b[39m=\u001b[39m [\n\u001b[1;32m   1527\u001b[0m     subjects_dir \u001b[39m/\u001b[39m subject \u001b[39m/\u001b[39m \u001b[39m\"\u001b[39m\u001b[39msurf\u001b[39m\u001b[39m\"\u001b[39m \u001b[39m/\u001b[39m \u001b[39mf\u001b[39m\u001b[39m\"\u001b[39m\u001b[39m{\u001b[39;00mhemi\u001b[39m}\u001b[39;00m\u001b[39m.\u001b[39m\u001b[39m{\u001b[39;00msurface\u001b[39m}\u001b[39;00m\u001b[39m\"\u001b[39m \u001b[39mfor\u001b[39;00m hemi \u001b[39min\u001b[39;00m [\u001b[39m\"\u001b[39m\u001b[39mlh\u001b[39m\u001b[39m\"\u001b[39m, \u001b[39m\"\u001b[39m\u001b[39mrh\u001b[39m\u001b[39m\"\u001b[39m]\n\u001b[1;32m   1528\u001b[0m ]\n\u001b[1;32m   1529\u001b[0m \u001b[39mfor\u001b[39;00m surf, hemi \u001b[39min\u001b[39;00m \u001b[39mzip\u001b[39m(surfs, [\u001b[39m\"\u001b[39m\u001b[39mLH\u001b[39m\u001b[39m\"\u001b[39m, \u001b[39m\"\u001b[39m\u001b[39mRH\u001b[39m\u001b[39m\"\u001b[39m]):\n",
      "File \u001b[0;32m/opt/homebrew/lib/python3.11/site-packages/mne/utils/config.py:483\u001b[0m, in \u001b[0;36mget_subjects_dir\u001b[0;34m(subjects_dir, raise_error)\u001b[0m\n\u001b[1;32m    480\u001b[0m \u001b[39mif\u001b[39;00m subjects_dir \u001b[39mis\u001b[39;00m \u001b[39mnot\u001b[39;00m \u001b[39mNone\u001b[39;00m:\n\u001b[1;32m    481\u001b[0m     \u001b[39m# Emit a nice error or warning if their config is bad\u001b[39;00m\n\u001b[1;32m    482\u001b[0m     \u001b[39mtry\u001b[39;00m:\n\u001b[0;32m--> 483\u001b[0m         subjects_dir \u001b[39m=\u001b[39m _check_fname(\n\u001b[1;32m    484\u001b[0m             fname\u001b[39m=\u001b[39;49msubjects_dir,\n\u001b[1;32m    485\u001b[0m             overwrite\u001b[39m=\u001b[39;49m\u001b[39m\"\u001b[39;49m\u001b[39mread\u001b[39;49m\u001b[39m\"\u001b[39;49m,\n\u001b[1;32m    486\u001b[0m             must_exist\u001b[39m=\u001b[39;49m\u001b[39mTrue\u001b[39;49;00m,\n\u001b[1;32m    487\u001b[0m             need_dir\u001b[39m=\u001b[39;49m\u001b[39mTrue\u001b[39;49;00m,\n\u001b[1;32m    488\u001b[0m             name\u001b[39m=\u001b[39;49m\u001b[39m\"\u001b[39;49m\u001b[39msubjects_dir\u001b[39;49m\u001b[39m\"\u001b[39;49m,\n\u001b[1;32m    489\u001b[0m         )\n\u001b[1;32m    490\u001b[0m     \u001b[39mexcept\u001b[39;00m \u001b[39mFileNotFoundError\u001b[39;00m:\n\u001b[1;32m    491\u001b[0m         \u001b[39mif\u001b[39;00m from_config:\n",
      "File \u001b[0;32m<decorator-gen-0>:12\u001b[0m, in \u001b[0;36m_check_fname\u001b[0;34m(fname, overwrite, must_exist, name, need_dir, check_bids_split, verbose)\u001b[0m\n",
      "File \u001b[0;32m/opt/homebrew/lib/python3.11/site-packages/mne/utils/check.py:302\u001b[0m, in \u001b[0;36m_check_fname\u001b[0;34m(fname, overwrite, must_exist, name, need_dir, check_bids_split, verbose)\u001b[0m\n\u001b[1;32m    300\u001b[0m             \u001b[39mraise\u001b[39;00m \u001b[39mPermissionError\u001b[39;00m(\u001b[39mf\u001b[39m\u001b[39m\"\u001b[39m\u001b[39m{\u001b[39;00mname\u001b[39m}\u001b[39;00m\u001b[39m does not have read permissions: \u001b[39m\u001b[39m{\u001b[39;00mfname\u001b[39m}\u001b[39;00m\u001b[39m\"\u001b[39m)\n\u001b[1;32m    301\u001b[0m \u001b[39melif\u001b[39;00m must_exist:\n\u001b[0;32m--> 302\u001b[0m     \u001b[39mraise\u001b[39;00m \u001b[39mFileNotFoundError\u001b[39;00m(\u001b[39mf\u001b[39m\u001b[39m'\u001b[39m\u001b[39m{\u001b[39;00mname\u001b[39m}\u001b[39;00m\u001b[39m does not exist: \u001b[39m\u001b[39m\"\u001b[39m\u001b[39m{\u001b[39;00mfname\u001b[39m}\u001b[39;00m\u001b[39m\"\u001b[39m\u001b[39m'\u001b[39m)\n\u001b[1;32m    304\u001b[0m \u001b[39mreturn\u001b[39;00m fname\n",
      "\u001b[0;31mFileNotFoundError\u001b[0m: subjects_dir does not exist: \"/path/to/freesurfer/subjects\""
     ]
    }
   ],
   "source": [
    "'''\n",
    "Set up your source space\n",
    "You need a discretization of the cortical sheet (or volume) into a set of dipoles:\n",
    "'''\n",
    "\n",
    "import mne\n",
    "\n",
    "# point MNE at your FreeSurfer SUBJECTS_DIR\n",
    "subjects_dir = '/path/to/freesurfer/subjects'\n",
    "\n",
    "# create a source space on the cortical surface (e.g. ~10 000 vertices / hemisphere)\n",
    "src = mne.setup_source_space(\n",
    "    subject='subj01',\n",
    "    spacing='oct6',                # roughly 4098 sources per hemi; try 'oct4' for fewer\n",
    "    subjects_dir=subjects_dir,\n",
    "    add_dist=False                 # save memory if you won’t do source connectivity\n",
    ")"
   ]
  },
  {
   "cell_type": "code",
   "execution_count": null,
   "metadata": {},
   "outputs": [],
   "source": [
    "'''\n",
    "Build a BEM model & solution\n",
    "This models how currents flow through head tissues:\n",
    "'''\n",
    "\n",
    "# 2a. Create a 3-layer BEM model from the MRI (watershed surfaces)\n",
    "model = mne.make_bem_model(\n",
    "    subject='subj01',\n",
    "    ico=4,                         # mesh granularity: higher ico → finer mesh\n",
    "    conductivity=(0.3, 0.006, 0.3),  # scalp, skull, brain in S/m\n",
    "    subjects_dir=subjects_dir\n",
    ")\n",
    "\n",
    "# 2b. Compute the BEM solution\n",
    "bem = mne.make_bem_solution(model)"
   ]
  },
  {
   "cell_type": "code",
   "execution_count": null,
   "metadata": {},
   "outputs": [],
   "source": [
    "'''\n",
    "Compute the forward solution\n",
    "You need your EEG sensor locations coregistered to the head:\n",
    "'''\n",
    "\n",
    "# 'trans' is your head<->MRI alignment file (e.g. from mne.gui.coregistration)\n",
    "trans = 'subj01-trans.fif'\n",
    "\n",
    "# 'info' comes from your Raw object: raw.info\n",
    "fwd = mne.make_forward_solution(\n",
    "    info=raw.info,\n",
    "    trans=trans,\n",
    "    src=src,\n",
    "    bem=bem,\n",
    "    meg=False,       # if you only have EEG\n",
    "    eeg=True,\n",
    "    mindist=5.0,     # mm minimum distance of sources from inner skull\n",
    "    n_jobs=4\n",
    ")"
   ]
  },
  {
   "cell_type": "code",
   "execution_count": null,
   "metadata": {},
   "outputs": [],
   "source": [
    "'''\n",
    "Estimate the noise covariance\n",
    "This quantifies the sensor space noise you will regularize against:\n",
    "'''\n",
    "\n",
    "# If you have empty‐room data:\n",
    "# noise_cov = mne.compute_raw_covariance(raw_empty, tmin=0, tmax=None)\n",
    "\n",
    "# Or use pre‐stimulus baseline from your epochs:\n",
    "epochs = mne.read_epochs('subj01-epo.fif')\n",
    "noise_cov = mne.compute_covariance(\n",
    "    epochs, \n",
    "    tmin=-0.2,      # baseline window start (s)\n",
    "    tmax=0.0,       # baseline window end (s)\n",
    "    method='empirical'\n",
    ")"
   ]
  },
  {
   "cell_type": "code",
   "execution_count": null,
   "metadata": {},
   "outputs": [],
   "source": [
    "'''\n",
    "Make the inverse operator\n",
    "Now combine info, fwd, and noise_cov:\n",
    "'''\n",
    "\n",
    "from mne.minimum_norm import make_inverse_operator\n",
    "\n",
    "inverse_operator = make_inverse_operator(\n",
    "    info=raw.info,\n",
    "    forward=fwd,\n",
    "    noise_cov=noise_cov,\n",
    "    loose=0.2,      # for cortical orientation constraint (0 = fixed, 1 = free)\n",
    "    depth=0.8,      # depth weighting exponent (0–1)\n",
    "    fixed=False     # if True, solves only for the normal orientation\n",
    ")\n",
    "\n",
    "'''\n",
    "    - loose controls how “tangential” vs. “normal” dipoles are penalized.\n",
    "    - depth balances bias toward superficial sources.\n",
    "    - fixed toggles a fixed‐orientation vs. full 3D dipole estimate.\n",
    "'''"
   ]
  },
  {
   "cell_type": "code",
   "execution_count": null,
   "metadata": {},
   "outputs": [],
   "source": [
    "'''\n",
    "You can save it for later:\n",
    "'''\n",
    "\n",
    "mne.minimum_norm.write_inverse_operator(\n",
    "    'subj01-inv.fif', \n",
    "    inverse_operator\n",
    ")"
   ]
  }
 ],
 "metadata": {
  "kernelspec": {
   "display_name": "Python 3",
   "language": "python",
   "name": "python3"
  },
  "language_info": {
   "codemirror_mode": {
    "name": "ipython",
    "version": 3
   },
   "file_extension": ".py",
   "mimetype": "text/x-python",
   "name": "python",
   "nbconvert_exporter": "python",
   "pygments_lexer": "ipython3",
   "version": "3.11.7"
  },
  "orig_nbformat": 4
 },
 "nbformat": 4,
 "nbformat_minor": 2
}
